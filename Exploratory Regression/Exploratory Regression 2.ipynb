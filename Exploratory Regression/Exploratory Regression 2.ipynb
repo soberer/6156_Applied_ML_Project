{
 "cells": [
  {
   "cell_type": "code",
   "execution_count": 60,
   "id": "91b63b04",
   "metadata": {},
   "outputs": [],
   "source": [
    "import numpy as np\n",
    "import pandas as pd\n",
    "import matplotlib.pyplot as plt\n",
    "from sklearn.model_selection import train_test_split\n",
    "from sklearn import linear_model\n",
    "from sklearn import tree\n",
    "from sklearn.tree import DecisionTreeRegressor\n",
    "from sklearn.tree import DecisionTreeClassifier\n",
    "from sklearn.linear_model import Lars\n",
    "from sklearn.linear_model import LinearRegression\n",
    "from sklearn.linear_model import Ridge\n",
    "from sklearn.linear_model import Lasso\n",
    "from sklearn.linear_model import ElasticNet\n",
    "from sklearn.linear_model import SGDClassifier\n",
    "from sklearn.neighbors import KNeighborsClassifier\n",
    "from sklearn.ensemble import RandomForestClassifier"
   ]
  },
  {
   "cell_type": "code",
   "execution_count": 61,
   "id": "ce73bc77",
   "metadata": {},
   "outputs": [],
   "source": [
    "df = pd.read_csv(\"Preprocessed_data.csv\")\n",
    "df.drop('Unnamed: 0', axis = 1, inplace = True)"
   ]
  },
  {
   "cell_type": "code",
   "execution_count": 62,
   "id": "ab891881",
   "metadata": {},
   "outputs": [
    {
     "data": {
      "text/html": [
       "<div>\n",
       "<style scoped>\n",
       "    .dataframe tbody tr th:only-of-type {\n",
       "        vertical-align: middle;\n",
       "    }\n",
       "\n",
       "    .dataframe tbody tr th {\n",
       "        vertical-align: top;\n",
       "    }\n",
       "\n",
       "    .dataframe thead th {\n",
       "        text-align: right;\n",
       "    }\n",
       "</style>\n",
       "<table border=\"1\" class=\"dataframe\">\n",
       "  <thead>\n",
       "    <tr style=\"text-align: right;\">\n",
       "      <th></th>\n",
       "      <th>Education</th>\n",
       "      <th>Income</th>\n",
       "      <th>MntWines</th>\n",
       "      <th>MntFruits</th>\n",
       "      <th>MntMeatProducts</th>\n",
       "      <th>MntFishProducts</th>\n",
       "      <th>MntSweetProducts</th>\n",
       "      <th>MntGoldProds</th>\n",
       "      <th>NumDealsPurchases</th>\n",
       "      <th>NumWebPurchases</th>\n",
       "      <th>NumCatalogPurchases</th>\n",
       "      <th>NumStorePurchases</th>\n",
       "      <th>NumWebVisitsMonth</th>\n",
       "      <th>Age</th>\n",
       "      <th>Married</th>\n",
       "      <th>Children</th>\n",
       "      <th>time_spent</th>\n",
       "      <th>total_purchase</th>\n",
       "      <th>total_campaigns</th>\n",
       "    </tr>\n",
       "  </thead>\n",
       "  <tbody>\n",
       "    <tr>\n",
       "      <th>0</th>\n",
       "      <td>1.0</td>\n",
       "      <td>58138.0</td>\n",
       "      <td>635.0</td>\n",
       "      <td>88.0</td>\n",
       "      <td>546.0</td>\n",
       "      <td>172.0</td>\n",
       "      <td>88.0</td>\n",
       "      <td>88.0</td>\n",
       "      <td>3.0</td>\n",
       "      <td>8.0</td>\n",
       "      <td>10.0</td>\n",
       "      <td>4.0</td>\n",
       "      <td>7.0</td>\n",
       "      <td>65.0</td>\n",
       "      <td>0.0</td>\n",
       "      <td>0.0</td>\n",
       "      <td>1617.0</td>\n",
       "      <td>25.0</td>\n",
       "      <td>0.0</td>\n",
       "    </tr>\n",
       "    <tr>\n",
       "      <th>1</th>\n",
       "      <td>1.0</td>\n",
       "      <td>46344.0</td>\n",
       "      <td>11.0</td>\n",
       "      <td>1.0</td>\n",
       "      <td>6.0</td>\n",
       "      <td>2.0</td>\n",
       "      <td>1.0</td>\n",
       "      <td>6.0</td>\n",
       "      <td>2.0</td>\n",
       "      <td>1.0</td>\n",
       "      <td>1.0</td>\n",
       "      <td>2.0</td>\n",
       "      <td>5.0</td>\n",
       "      <td>68.0</td>\n",
       "      <td>0.0</td>\n",
       "      <td>2.0</td>\n",
       "      <td>27.0</td>\n",
       "      <td>6.0</td>\n",
       "      <td>0.0</td>\n",
       "    </tr>\n",
       "    <tr>\n",
       "      <th>2</th>\n",
       "      <td>1.0</td>\n",
       "      <td>71613.0</td>\n",
       "      <td>426.0</td>\n",
       "      <td>49.0</td>\n",
       "      <td>127.0</td>\n",
       "      <td>111.0</td>\n",
       "      <td>21.0</td>\n",
       "      <td>42.0</td>\n",
       "      <td>1.0</td>\n",
       "      <td>8.0</td>\n",
       "      <td>2.0</td>\n",
       "      <td>10.0</td>\n",
       "      <td>4.0</td>\n",
       "      <td>57.0</td>\n",
       "      <td>1.0</td>\n",
       "      <td>0.0</td>\n",
       "      <td>776.0</td>\n",
       "      <td>21.0</td>\n",
       "      <td>0.0</td>\n",
       "    </tr>\n",
       "    <tr>\n",
       "      <th>3</th>\n",
       "      <td>1.0</td>\n",
       "      <td>26646.0</td>\n",
       "      <td>11.0</td>\n",
       "      <td>4.0</td>\n",
       "      <td>20.0</td>\n",
       "      <td>10.0</td>\n",
       "      <td>3.0</td>\n",
       "      <td>5.0</td>\n",
       "      <td>2.0</td>\n",
       "      <td>2.0</td>\n",
       "      <td>0.0</td>\n",
       "      <td>4.0</td>\n",
       "      <td>6.0</td>\n",
       "      <td>38.0</td>\n",
       "      <td>1.0</td>\n",
       "      <td>1.0</td>\n",
       "      <td>53.0</td>\n",
       "      <td>8.0</td>\n",
       "      <td>0.0</td>\n",
       "    </tr>\n",
       "    <tr>\n",
       "      <th>4</th>\n",
       "      <td>2.0</td>\n",
       "      <td>58293.0</td>\n",
       "      <td>173.0</td>\n",
       "      <td>43.0</td>\n",
       "      <td>118.0</td>\n",
       "      <td>46.0</td>\n",
       "      <td>27.0</td>\n",
       "      <td>15.0</td>\n",
       "      <td>5.0</td>\n",
       "      <td>5.0</td>\n",
       "      <td>3.0</td>\n",
       "      <td>6.0</td>\n",
       "      <td>5.0</td>\n",
       "      <td>41.0</td>\n",
       "      <td>1.0</td>\n",
       "      <td>1.0</td>\n",
       "      <td>422.0</td>\n",
       "      <td>19.0</td>\n",
       "      <td>0.0</td>\n",
       "    </tr>\n",
       "    <tr>\n",
       "      <th>...</th>\n",
       "      <td>...</td>\n",
       "      <td>...</td>\n",
       "      <td>...</td>\n",
       "      <td>...</td>\n",
       "      <td>...</td>\n",
       "      <td>...</td>\n",
       "      <td>...</td>\n",
       "      <td>...</td>\n",
       "      <td>...</td>\n",
       "      <td>...</td>\n",
       "      <td>...</td>\n",
       "      <td>...</td>\n",
       "      <td>...</td>\n",
       "      <td>...</td>\n",
       "      <td>...</td>\n",
       "      <td>...</td>\n",
       "      <td>...</td>\n",
       "      <td>...</td>\n",
       "      <td>...</td>\n",
       "    </tr>\n",
       "    <tr>\n",
       "      <th>2224</th>\n",
       "      <td>1.0</td>\n",
       "      <td>61223.0</td>\n",
       "      <td>709.0</td>\n",
       "      <td>43.0</td>\n",
       "      <td>182.0</td>\n",
       "      <td>42.0</td>\n",
       "      <td>118.0</td>\n",
       "      <td>247.0</td>\n",
       "      <td>2.0</td>\n",
       "      <td>9.0</td>\n",
       "      <td>3.0</td>\n",
       "      <td>4.0</td>\n",
       "      <td>5.0</td>\n",
       "      <td>55.0</td>\n",
       "      <td>1.0</td>\n",
       "      <td>1.0</td>\n",
       "      <td>1341.0</td>\n",
       "      <td>18.0</td>\n",
       "      <td>0.0</td>\n",
       "    </tr>\n",
       "    <tr>\n",
       "      <th>2225</th>\n",
       "      <td>2.0</td>\n",
       "      <td>64014.0</td>\n",
       "      <td>406.0</td>\n",
       "      <td>0.0</td>\n",
       "      <td>30.0</td>\n",
       "      <td>0.0</td>\n",
       "      <td>0.0</td>\n",
       "      <td>8.0</td>\n",
       "      <td>7.0</td>\n",
       "      <td>8.0</td>\n",
       "      <td>2.0</td>\n",
       "      <td>5.0</td>\n",
       "      <td>7.0</td>\n",
       "      <td>76.0</td>\n",
       "      <td>1.0</td>\n",
       "      <td>3.0</td>\n",
       "      <td>444.0</td>\n",
       "      <td>22.0</td>\n",
       "      <td>1.0</td>\n",
       "    </tr>\n",
       "    <tr>\n",
       "      <th>2226</th>\n",
       "      <td>1.0</td>\n",
       "      <td>56981.0</td>\n",
       "      <td>908.0</td>\n",
       "      <td>48.0</td>\n",
       "      <td>217.0</td>\n",
       "      <td>32.0</td>\n",
       "      <td>12.0</td>\n",
       "      <td>24.0</td>\n",
       "      <td>1.0</td>\n",
       "      <td>2.0</td>\n",
       "      <td>3.0</td>\n",
       "      <td>13.0</td>\n",
       "      <td>6.0</td>\n",
       "      <td>41.0</td>\n",
       "      <td>0.0</td>\n",
       "      <td>0.0</td>\n",
       "      <td>1241.0</td>\n",
       "      <td>19.0</td>\n",
       "      <td>1.0</td>\n",
       "    </tr>\n",
       "    <tr>\n",
       "      <th>2227</th>\n",
       "      <td>2.0</td>\n",
       "      <td>69245.0</td>\n",
       "      <td>428.0</td>\n",
       "      <td>30.0</td>\n",
       "      <td>214.0</td>\n",
       "      <td>80.0</td>\n",
       "      <td>30.0</td>\n",
       "      <td>61.0</td>\n",
       "      <td>2.0</td>\n",
       "      <td>6.0</td>\n",
       "      <td>5.0</td>\n",
       "      <td>10.0</td>\n",
       "      <td>3.0</td>\n",
       "      <td>66.0</td>\n",
       "      <td>1.0</td>\n",
       "      <td>1.0</td>\n",
       "      <td>843.0</td>\n",
       "      <td>23.0</td>\n",
       "      <td>0.0</td>\n",
       "    </tr>\n",
       "    <tr>\n",
       "      <th>2228</th>\n",
       "      <td>2.0</td>\n",
       "      <td>52869.0</td>\n",
       "      <td>84.0</td>\n",
       "      <td>3.0</td>\n",
       "      <td>61.0</td>\n",
       "      <td>2.0</td>\n",
       "      <td>1.0</td>\n",
       "      <td>21.0</td>\n",
       "      <td>3.0</td>\n",
       "      <td>3.0</td>\n",
       "      <td>1.0</td>\n",
       "      <td>4.0</td>\n",
       "      <td>7.0</td>\n",
       "      <td>68.0</td>\n",
       "      <td>1.0</td>\n",
       "      <td>2.0</td>\n",
       "      <td>172.0</td>\n",
       "      <td>11.0</td>\n",
       "      <td>0.0</td>\n",
       "    </tr>\n",
       "  </tbody>\n",
       "</table>\n",
       "<p>2229 rows × 19 columns</p>\n",
       "</div>"
      ],
      "text/plain": [
       "      Education   Income  MntWines  MntFruits  MntMeatProducts  \\\n",
       "0           1.0  58138.0     635.0       88.0            546.0   \n",
       "1           1.0  46344.0      11.0        1.0              6.0   \n",
       "2           1.0  71613.0     426.0       49.0            127.0   \n",
       "3           1.0  26646.0      11.0        4.0             20.0   \n",
       "4           2.0  58293.0     173.0       43.0            118.0   \n",
       "...         ...      ...       ...        ...              ...   \n",
       "2224        1.0  61223.0     709.0       43.0            182.0   \n",
       "2225        2.0  64014.0     406.0        0.0             30.0   \n",
       "2226        1.0  56981.0     908.0       48.0            217.0   \n",
       "2227        2.0  69245.0     428.0       30.0            214.0   \n",
       "2228        2.0  52869.0      84.0        3.0             61.0   \n",
       "\n",
       "      MntFishProducts  MntSweetProducts  MntGoldProds  NumDealsPurchases  \\\n",
       "0               172.0              88.0          88.0                3.0   \n",
       "1                 2.0               1.0           6.0                2.0   \n",
       "2               111.0              21.0          42.0                1.0   \n",
       "3                10.0               3.0           5.0                2.0   \n",
       "4                46.0              27.0          15.0                5.0   \n",
       "...               ...               ...           ...                ...   \n",
       "2224             42.0             118.0         247.0                2.0   \n",
       "2225              0.0               0.0           8.0                7.0   \n",
       "2226             32.0              12.0          24.0                1.0   \n",
       "2227             80.0              30.0          61.0                2.0   \n",
       "2228              2.0               1.0          21.0                3.0   \n",
       "\n",
       "      NumWebPurchases  NumCatalogPurchases  NumStorePurchases  \\\n",
       "0                 8.0                 10.0                4.0   \n",
       "1                 1.0                  1.0                2.0   \n",
       "2                 8.0                  2.0               10.0   \n",
       "3                 2.0                  0.0                4.0   \n",
       "4                 5.0                  3.0                6.0   \n",
       "...               ...                  ...                ...   \n",
       "2224              9.0                  3.0                4.0   \n",
       "2225              8.0                  2.0                5.0   \n",
       "2226              2.0                  3.0               13.0   \n",
       "2227              6.0                  5.0               10.0   \n",
       "2228              3.0                  1.0                4.0   \n",
       "\n",
       "      NumWebVisitsMonth   Age  Married  Children  time_spent  total_purchase  \\\n",
       "0                   7.0  65.0      0.0       0.0      1617.0            25.0   \n",
       "1                   5.0  68.0      0.0       2.0        27.0             6.0   \n",
       "2                   4.0  57.0      1.0       0.0       776.0            21.0   \n",
       "3                   6.0  38.0      1.0       1.0        53.0             8.0   \n",
       "4                   5.0  41.0      1.0       1.0       422.0            19.0   \n",
       "...                 ...   ...      ...       ...         ...             ...   \n",
       "2224                5.0  55.0      1.0       1.0      1341.0            18.0   \n",
       "2225                7.0  76.0      1.0       3.0       444.0            22.0   \n",
       "2226                6.0  41.0      0.0       0.0      1241.0            19.0   \n",
       "2227                3.0  66.0      1.0       1.0       843.0            23.0   \n",
       "2228                7.0  68.0      1.0       2.0       172.0            11.0   \n",
       "\n",
       "      total_campaigns  \n",
       "0                 0.0  \n",
       "1                 0.0  \n",
       "2                 0.0  \n",
       "3                 0.0  \n",
       "4                 0.0  \n",
       "...               ...  \n",
       "2224              0.0  \n",
       "2225              1.0  \n",
       "2226              1.0  \n",
       "2227              0.0  \n",
       "2228              0.0  \n",
       "\n",
       "[2229 rows x 19 columns]"
      ]
     },
     "execution_count": 62,
     "metadata": {},
     "output_type": "execute_result"
    }
   ],
   "source": [
    "df"
   ]
  },
  {
   "cell_type": "code",
   "execution_count": 63,
   "id": "a5d1ee44",
   "metadata": {},
   "outputs": [],
   "source": [
    "edu = df.iloc[:,0:1]\n",
    "income = df.iloc[:,1:2]\n",
    "age = df.iloc[:,13:14]\n",
    "relationship = df.iloc[:,14:15]\n",
    "children = df.iloc[:,15:16]\n",
    "time_spent = df.iloc[:,16:17]\n",
    "total_purchases = df.iloc[:,17:18]\n",
    "web_visits = df.iloc[:,12:13]\n",
    "\n",
    "customer_info = edu\n",
    "customer_info.insert(0, 'Income', income)\n",
    "customer_info.insert(0, 'Age', age)\n",
    "customer_info.insert(0, 'Married', relationship)\n",
    "customer_info.insert(0, 'Children', children)\n",
    "#customer_info.insert(0, 'Time Spent', time_spent)\n",
    "#customer_info.insert(0, 'Total Purchases', total_purchases)\n",
    "customer_info.insert(0, 'Web Visits', web_visits)\n",
    "\n",
    "edu = df.iloc[:,0:1]"
   ]
  },
  {
   "cell_type": "code",
   "execution_count": 64,
   "id": "e578ddc1",
   "metadata": {},
   "outputs": [],
   "source": [
    "wine = df.iloc[:,2:3]\n",
    "fruit = df.iloc[:,3:4]\n",
    "meat = df.iloc[:,4:5]\n",
    "fish = df.iloc[:,5:6]\n",
    "sweets = df.iloc[:,6:7]\n",
    "gold = df.iloc[:,7:8]\n",
    "\n",
    "product_interests = wine\n",
    "product_interests.insert(0, 'Fruit', fruit)\n",
    "product_interests.insert(0, 'Meat', meat)\n",
    "product_interests.insert(0, 'Fish', fish)\n",
    "product_interests.insert(0, 'Sweet', sweets)\n",
    "product_interests.insert(0, 'Gold', gold)\n",
    "\n",
    "wine = df.iloc[:,2:3]"
   ]
  },
  {
   "cell_type": "code",
   "execution_count": 65,
   "id": "172d128e",
   "metadata": {},
   "outputs": [],
   "source": [
    "deals = df.iloc[:,8:9]\n",
    "web = df.iloc[:,9:10]\n",
    "catalog = df.iloc[:,10:11]\n",
    "store = df.iloc[:,11:12]\n",
    "\n",
    "purchase_type = df.iloc[:,8:12]"
   ]
  },
  {
   "cell_type": "markdown",
   "id": "ea7b4285",
   "metadata": {},
   "source": [
    "# WINE"
   ]
  },
  {
   "cell_type": "code",
   "execution_count": 66,
   "id": "76674425",
   "metadata": {},
   "outputs": [],
   "source": [
    "customer_info.insert(0, 'Total Purchases', total_purchases)"
   ]
  },
  {
   "cell_type": "code",
   "execution_count": 67,
   "id": "eb0d610c",
   "metadata": {},
   "outputs": [
    {
     "name": "stdout",
     "output_type": "stream",
     "text": [
      "Linear Train Accuracy : 0.669\n",
      "Linear Test Accuracy : 0.635\n",
      "Lasso Train Accuracy : 0.669\n",
      "Lasso Test Accuracy : 0.637\n",
      "Ridge Train Accuracy : 0.669\n",
      "Ridge Test Accuracy : 0.635\n",
      "Elastic Net Train Accuracy : 0.658\n",
      "Elastic Net Test Accuracy : 0.635\n"
     ]
    }
   ],
   "source": [
    "X_train, X_test, t_train, t_test =  train_test_split(customer_info, wine, test_size=0.2, random_state=10)\n",
    "\n",
    "\n",
    "#models\n",
    "reg = linear_model.LinearRegression()\n",
    "lasso = linear_model.Lasso()\n",
    "ridge = linear_model.Ridge()\n",
    "Enet = linear_model.ElasticNet()\n",
    "\n",
    "#training\n",
    "reg.fit(X_train, t_train)\n",
    "lasso.fit(X_train, t_train)\n",
    "ridge.fit(X_train, t_train)\n",
    "Enet.fit(X_train, t_train)\n",
    "\n",
    "#scoring\n",
    "print('Linear Train Accuracy : %.3f'%reg.score(X_train, t_train))\n",
    "print('Linear Test Accuracy : %.3f'%reg.score(X_test, t_test))\n",
    "print('Lasso Train Accuracy : %.3f'%lasso.score(X_train, t_train))\n",
    "print('Lasso Test Accuracy : %.3f'%lasso.score(X_test, t_test))\n",
    "print('Ridge Train Accuracy : %.3f'%ridge.score(X_train, t_train))\n",
    "print('Ridge Test Accuracy : %.3f'%ridge.score(X_test, t_test))\n",
    "print('Elastic Net Train Accuracy : %.3f'%Enet.score(X_train, t_train))\n",
    "print('Elastic Net Test Accuracy : %.3f'%Enet.score(X_test, t_test))"
   ]
  },
  {
   "cell_type": "code",
   "execution_count": 68,
   "id": "8b24efca",
   "metadata": {},
   "outputs": [
    {
     "data": {
      "text/html": [
       "<div>\n",
       "<style scoped>\n",
       "    .dataframe tbody tr th:only-of-type {\n",
       "        vertical-align: middle;\n",
       "    }\n",
       "\n",
       "    .dataframe tbody tr th {\n",
       "        vertical-align: top;\n",
       "    }\n",
       "\n",
       "    .dataframe thead th {\n",
       "        text-align: right;\n",
       "    }\n",
       "</style>\n",
       "<table border=\"1\" class=\"dataframe\">\n",
       "  <thead>\n",
       "    <tr style=\"text-align: right;\">\n",
       "      <th></th>\n",
       "      <th>Total Purchases</th>\n",
       "      <th>Web Visits</th>\n",
       "      <th>Children</th>\n",
       "      <th>Married</th>\n",
       "      <th>Age</th>\n",
       "      <th>Income</th>\n",
       "      <th>Education</th>\n",
       "    </tr>\n",
       "  </thead>\n",
       "  <tbody>\n",
       "    <tr>\n",
       "      <th>0</th>\n",
       "      <td>25.0</td>\n",
       "      <td>7.0</td>\n",
       "      <td>0.0</td>\n",
       "      <td>0.0</td>\n",
       "      <td>65.0</td>\n",
       "      <td>58138.0</td>\n",
       "      <td>1.0</td>\n",
       "    </tr>\n",
       "    <tr>\n",
       "      <th>1</th>\n",
       "      <td>6.0</td>\n",
       "      <td>5.0</td>\n",
       "      <td>2.0</td>\n",
       "      <td>0.0</td>\n",
       "      <td>68.0</td>\n",
       "      <td>46344.0</td>\n",
       "      <td>1.0</td>\n",
       "    </tr>\n",
       "    <tr>\n",
       "      <th>2</th>\n",
       "      <td>21.0</td>\n",
       "      <td>4.0</td>\n",
       "      <td>0.0</td>\n",
       "      <td>1.0</td>\n",
       "      <td>57.0</td>\n",
       "      <td>71613.0</td>\n",
       "      <td>1.0</td>\n",
       "    </tr>\n",
       "    <tr>\n",
       "      <th>3</th>\n",
       "      <td>8.0</td>\n",
       "      <td>6.0</td>\n",
       "      <td>1.0</td>\n",
       "      <td>1.0</td>\n",
       "      <td>38.0</td>\n",
       "      <td>26646.0</td>\n",
       "      <td>1.0</td>\n",
       "    </tr>\n",
       "    <tr>\n",
       "      <th>4</th>\n",
       "      <td>19.0</td>\n",
       "      <td>5.0</td>\n",
       "      <td>1.0</td>\n",
       "      <td>1.0</td>\n",
       "      <td>41.0</td>\n",
       "      <td>58293.0</td>\n",
       "      <td>2.0</td>\n",
       "    </tr>\n",
       "    <tr>\n",
       "      <th>...</th>\n",
       "      <td>...</td>\n",
       "      <td>...</td>\n",
       "      <td>...</td>\n",
       "      <td>...</td>\n",
       "      <td>...</td>\n",
       "      <td>...</td>\n",
       "      <td>...</td>\n",
       "    </tr>\n",
       "    <tr>\n",
       "      <th>2224</th>\n",
       "      <td>18.0</td>\n",
       "      <td>5.0</td>\n",
       "      <td>1.0</td>\n",
       "      <td>1.0</td>\n",
       "      <td>55.0</td>\n",
       "      <td>61223.0</td>\n",
       "      <td>1.0</td>\n",
       "    </tr>\n",
       "    <tr>\n",
       "      <th>2225</th>\n",
       "      <td>22.0</td>\n",
       "      <td>7.0</td>\n",
       "      <td>3.0</td>\n",
       "      <td>1.0</td>\n",
       "      <td>76.0</td>\n",
       "      <td>64014.0</td>\n",
       "      <td>2.0</td>\n",
       "    </tr>\n",
       "    <tr>\n",
       "      <th>2226</th>\n",
       "      <td>19.0</td>\n",
       "      <td>6.0</td>\n",
       "      <td>0.0</td>\n",
       "      <td>0.0</td>\n",
       "      <td>41.0</td>\n",
       "      <td>56981.0</td>\n",
       "      <td>1.0</td>\n",
       "    </tr>\n",
       "    <tr>\n",
       "      <th>2227</th>\n",
       "      <td>23.0</td>\n",
       "      <td>3.0</td>\n",
       "      <td>1.0</td>\n",
       "      <td>1.0</td>\n",
       "      <td>66.0</td>\n",
       "      <td>69245.0</td>\n",
       "      <td>2.0</td>\n",
       "    </tr>\n",
       "    <tr>\n",
       "      <th>2228</th>\n",
       "      <td>11.0</td>\n",
       "      <td>7.0</td>\n",
       "      <td>2.0</td>\n",
       "      <td>1.0</td>\n",
       "      <td>68.0</td>\n",
       "      <td>52869.0</td>\n",
       "      <td>2.0</td>\n",
       "    </tr>\n",
       "  </tbody>\n",
       "</table>\n",
       "<p>2229 rows × 7 columns</p>\n",
       "</div>"
      ],
      "text/plain": [
       "      Total Purchases  Web Visits  Children  Married   Age   Income  Education\n",
       "0                25.0         7.0       0.0      0.0  65.0  58138.0        1.0\n",
       "1                 6.0         5.0       2.0      0.0  68.0  46344.0        1.0\n",
       "2                21.0         4.0       0.0      1.0  57.0  71613.0        1.0\n",
       "3                 8.0         6.0       1.0      1.0  38.0  26646.0        1.0\n",
       "4                19.0         5.0       1.0      1.0  41.0  58293.0        2.0\n",
       "...               ...         ...       ...      ...   ...      ...        ...\n",
       "2224             18.0         5.0       1.0      1.0  55.0  61223.0        1.0\n",
       "2225             22.0         7.0       3.0      1.0  76.0  64014.0        2.0\n",
       "2226             19.0         6.0       0.0      0.0  41.0  56981.0        1.0\n",
       "2227             23.0         3.0       1.0      1.0  66.0  69245.0        2.0\n",
       "2228             11.0         7.0       2.0      1.0  68.0  52869.0        2.0\n",
       "\n",
       "[2229 rows x 7 columns]"
      ]
     },
     "execution_count": 68,
     "metadata": {},
     "output_type": "execute_result"
    }
   ],
   "source": [
    "customer_info"
   ]
  },
  {
   "cell_type": "markdown",
   "id": "94b1061c",
   "metadata": {},
   "source": [
    "# FRUIT"
   ]
  },
  {
   "cell_type": "code",
   "execution_count": 91,
   "id": "fbe38c34",
   "metadata": {},
   "outputs": [
    {
     "name": "stdout",
     "output_type": "stream",
     "text": [
      "Linear Train Accuracy : 0.384\n",
      "Linear Test Accuracy : 0.351\n",
      "Lasso Train Accuracy : 0.381\n",
      "Lasso Test Accuracy : 0.356\n",
      "Ridge Train Accuracy : 0.384\n",
      "Ridge Test Accuracy : 0.351\n",
      "Elastic Net Train Accuracy : 0.367\n",
      "Elastic Net Test Accuracy : 0.349\n"
     ]
    }
   ],
   "source": [
    "X_train, X_test, t_train, t_test =  train_test_split(customer_info, fruit, test_size=0.2, random_state=10)\n",
    "\n",
    "\n",
    "#models\n",
    "reg = linear_model.LinearRegression()\n",
    "lasso = linear_model.Lasso()\n",
    "ridge = linear_model.Ridge()\n",
    "Enet = linear_model.ElasticNet()\n",
    "\n",
    "#training\n",
    "reg.fit(X_train, t_train)\n",
    "lasso.fit(X_train, t_train)\n",
    "ridge.fit(X_train, t_train)\n",
    "Enet.fit(X_train, t_train)\n",
    "\n",
    "#scoring\n",
    "print('Linear Train Accuracy : %.3f'%reg.score(X_train, t_train))\n",
    "print('Linear Test Accuracy : %.3f'%reg.score(X_test, t_test))\n",
    "print('Lasso Train Accuracy : %.3f'%lasso.score(X_train, t_train))\n",
    "print('Lasso Test Accuracy : %.3f'%lasso.score(X_test, t_test))\n",
    "print('Ridge Train Accuracy : %.3f'%ridge.score(X_train, t_train))\n",
    "print('Ridge Test Accuracy : %.3f'%ridge.score(X_test, t_test))\n",
    "print('Elastic Net Train Accuracy : %.3f'%Enet.score(X_train, t_train))\n",
    "print('Elastic Net Test Accuracy : %.3f'%Enet.score(X_test, t_test))"
   ]
  },
  {
   "cell_type": "markdown",
   "id": "a35ff442",
   "metadata": {},
   "source": [
    "# MEAT"
   ]
  },
  {
   "cell_type": "code",
   "execution_count": 69,
   "id": "39013a19",
   "metadata": {},
   "outputs": [
    {
     "name": "stdout",
     "output_type": "stream",
     "text": [
      "Linear Train Accuracy : 0.588\n",
      "Linear Test Accuracy : 0.604\n",
      "Lasso Train Accuracy : 0.588\n",
      "Lasso Test Accuracy : 0.605\n",
      "Ridge Train Accuracy : 0.588\n",
      "Ridge Test Accuracy : 0.604\n",
      "Elastic Net Train Accuracy : 0.572\n",
      "Elastic Net Test Accuracy : 0.590\n"
     ]
    }
   ],
   "source": [
    "X_train, X_test, t_train, t_test =  train_test_split(customer_info, meat, test_size=0.2, random_state=10)\n",
    "\n",
    "\n",
    "#models\n",
    "reg = linear_model.LinearRegression()\n",
    "lasso = linear_model.Lasso()\n",
    "ridge = linear_model.Ridge()\n",
    "Enet = linear_model.ElasticNet()\n",
    "\n",
    "#training\n",
    "reg.fit(X_train, t_train)\n",
    "lasso.fit(X_train, t_train)\n",
    "ridge.fit(X_train, t_train)\n",
    "Enet.fit(X_train, t_train)\n",
    "\n",
    "#scoring\n",
    "print('Linear Train Accuracy : %.3f'%reg.score(X_train, t_train))\n",
    "print('Linear Test Accuracy : %.3f'%reg.score(X_test, t_test))\n",
    "print('Lasso Train Accuracy : %.3f'%lasso.score(X_train, t_train))\n",
    "print('Lasso Test Accuracy : %.3f'%lasso.score(X_test, t_test))\n",
    "print('Ridge Train Accuracy : %.3f'%ridge.score(X_train, t_train))\n",
    "print('Ridge Test Accuracy : %.3f'%ridge.score(X_test, t_test))\n",
    "print('Elastic Net Train Accuracy : %.3f'%Enet.score(X_train, t_train))\n",
    "print('Elastic Net Test Accuracy : %.3f'%Enet.score(X_test, t_test))"
   ]
  },
  {
   "cell_type": "code",
   "execution_count": 70,
   "id": "edca67eb",
   "metadata": {},
   "outputs": [
    {
     "data": {
      "text/plain": [
       "array([[ 3.87469243e+00, -9.82893288e+00, -7.76333948e+01,\n",
       "        -6.70965590e+00, -1.40840908e+00,  4.95053026e-03,\n",
       "        -9.66765344e+00]])"
      ]
     },
     "execution_count": 70,
     "metadata": {},
     "output_type": "execute_result"
    }
   ],
   "source": [
    "reg.coef_"
   ]
  },
  {
   "cell_type": "markdown",
   "id": "36df8e33",
   "metadata": {},
   "source": [
    "# FISH"
   ]
  },
  {
   "cell_type": "code",
   "execution_count": 93,
   "id": "451ea5de",
   "metadata": {},
   "outputs": [
    {
     "name": "stdout",
     "output_type": "stream",
     "text": [
      "Linear Train Accuracy : 0.429\n",
      "Linear Test Accuracy : 0.362\n",
      "Lasso Train Accuracy : 0.427\n",
      "Lasso Test Accuracy : 0.364\n",
      "Ridge Train Accuracy : 0.429\n",
      "Ridge Test Accuracy : 0.362\n",
      "Elastic Net Train Accuracy : 0.407\n",
      "Elastic Net Test Accuracy : 0.358\n"
     ]
    }
   ],
   "source": [
    "X_train, X_test, t_train, t_test =  train_test_split(customer_info, fish, test_size=0.2, random_state=10)\n",
    "\n",
    "\n",
    "#models\n",
    "reg = linear_model.LinearRegression()\n",
    "lasso = linear_model.Lasso()\n",
    "ridge = linear_model.Ridge()\n",
    "Enet = linear_model.ElasticNet()\n",
    "\n",
    "#training\n",
    "reg.fit(X_train, t_train)\n",
    "lasso.fit(X_train, t_train)\n",
    "ridge.fit(X_train, t_train)\n",
    "Enet.fit(X_train, t_train)\n",
    "\n",
    "#scoring\n",
    "print('Linear Train Accuracy : %.3f'%reg.score(X_train, t_train))\n",
    "print('Linear Test Accuracy : %.3f'%reg.score(X_test, t_test))\n",
    "print('Lasso Train Accuracy : %.3f'%lasso.score(X_train, t_train))\n",
    "print('Lasso Test Accuracy : %.3f'%lasso.score(X_test, t_test))\n",
    "print('Ridge Train Accuracy : %.3f'%ridge.score(X_train, t_train))\n",
    "print('Ridge Test Accuracy : %.3f'%ridge.score(X_test, t_test))\n",
    "print('Elastic Net Train Accuracy : %.3f'%Enet.score(X_train, t_train))\n",
    "print('Elastic Net Test Accuracy : %.3f'%Enet.score(X_test, t_test))"
   ]
  },
  {
   "cell_type": "markdown",
   "id": "251487c3",
   "metadata": {},
   "source": [
    "# SWEETS"
   ]
  },
  {
   "cell_type": "code",
   "execution_count": 94,
   "id": "a9271e7d",
   "metadata": {},
   "outputs": [
    {
     "name": "stdout",
     "output_type": "stream",
     "text": [
      "Linear Train Accuracy : 0.398\n",
      "Linear Test Accuracy : 0.385\n",
      "Lasso Train Accuracy : 0.395\n",
      "Lasso Test Accuracy : 0.381\n",
      "Ridge Train Accuracy : 0.398\n",
      "Ridge Test Accuracy : 0.385\n",
      "Elastic Net Train Accuracy : 0.382\n",
      "Elastic Net Test Accuracy : 0.366\n"
     ]
    }
   ],
   "source": [
    "X_train, X_test, t_train, t_test =  train_test_split(customer_info, sweets, test_size=0.2, random_state=10)\n",
    "\n",
    "\n",
    "#models\n",
    "reg = linear_model.LinearRegression()\n",
    "lasso = linear_model.Lasso()\n",
    "ridge = linear_model.Ridge()\n",
    "Enet = linear_model.ElasticNet()\n",
    "\n",
    "#training\n",
    "reg.fit(X_train, t_train)\n",
    "lasso.fit(X_train, t_train)\n",
    "ridge.fit(X_train, t_train)\n",
    "Enet.fit(X_train, t_train)\n",
    "\n",
    "#scoring\n",
    "print('Linear Train Accuracy : %.3f'%reg.score(X_train, t_train))\n",
    "print('Linear Test Accuracy : %.3f'%reg.score(X_test, t_test))\n",
    "print('Lasso Train Accuracy : %.3f'%lasso.score(X_train, t_train))\n",
    "print('Lasso Test Accuracy : %.3f'%lasso.score(X_test, t_test))\n",
    "print('Ridge Train Accuracy : %.3f'%ridge.score(X_train, t_train))\n",
    "print('Ridge Test Accuracy : %.3f'%ridge.score(X_test, t_test))\n",
    "print('Elastic Net Train Accuracy : %.3f'%Enet.score(X_train, t_train))\n",
    "print('Elastic Net Test Accuracy : %.3f'%Enet.score(X_test, t_test))"
   ]
  },
  {
   "cell_type": "markdown",
   "id": "faf4c02e",
   "metadata": {},
   "source": [
    "# GOLD"
   ]
  },
  {
   "cell_type": "code",
   "execution_count": 95,
   "id": "82a86894",
   "metadata": {},
   "outputs": [
    {
     "name": "stdout",
     "output_type": "stream",
     "text": [
      "Linear Train Accuracy : 0.296\n",
      "Linear Test Accuracy : 0.273\n",
      "Lasso Train Accuracy : 0.294\n",
      "Lasso Test Accuracy : 0.272\n",
      "Ridge Train Accuracy : 0.296\n",
      "Ridge Test Accuracy : 0.273\n",
      "Elastic Net Train Accuracy : 0.285\n",
      "Elastic Net Test Accuracy : 0.265\n"
     ]
    }
   ],
   "source": [
    "X_train, X_test, t_train, t_test =  train_test_split(customer_info, gold, test_size=0.2, random_state=10)\n",
    "\n",
    "\n",
    "#models\n",
    "reg = linear_model.LinearRegression()\n",
    "lasso = linear_model.Lasso()\n",
    "ridge = linear_model.Ridge()\n",
    "Enet = linear_model.ElasticNet()\n",
    "\n",
    "#training\n",
    "reg.fit(X_train, t_train)\n",
    "lasso.fit(X_train, t_train)\n",
    "ridge.fit(X_train, t_train)\n",
    "Enet.fit(X_train, t_train)\n",
    "\n",
    "#scoring\n",
    "print('Linear Train Accuracy : %.3f'%reg.score(X_train, t_train))\n",
    "print('Linear Test Accuracy : %.3f'%reg.score(X_test, t_test))\n",
    "print('Lasso Train Accuracy : %.3f'%lasso.score(X_train, t_train))\n",
    "print('Lasso Test Accuracy : %.3f'%lasso.score(X_test, t_test))\n",
    "print('Ridge Train Accuracy : %.3f'%ridge.score(X_train, t_train))\n",
    "print('Ridge Test Accuracy : %.3f'%ridge.score(X_test, t_test))\n",
    "print('Elastic Net Train Accuracy : %.3f'%Enet.score(X_train, t_train))\n",
    "print('Elastic Net Test Accuracy : %.3f'%Enet.score(X_test, t_test))"
   ]
  },
  {
   "cell_type": "markdown",
   "id": "8fc7dd58",
   "metadata": {},
   "source": [
    "# END OF PRODUCT MODELS"
   ]
  },
  {
   "cell_type": "markdown",
   "id": "f827077f",
   "metadata": {},
   "source": [
    "# Education"
   ]
  },
  {
   "cell_type": "code",
   "execution_count": 98,
   "id": "4af6368f",
   "metadata": {},
   "outputs": [
    {
     "name": "stdout",
     "output_type": "stream",
     "text": [
      "Linear Train Accuracy : 0.109\n",
      "Linear Test Accuracy : 0.078\n",
      "Lasso Train Accuracy : 0.105\n",
      "Lasso Test Accuracy : 0.073\n",
      "Ridge Train Accuracy : 0.109\n",
      "Ridge Test Accuracy : 0.078\n",
      "Elastic Net Train Accuracy : 0.108\n",
      "Elastic Net Test Accuracy : 0.076\n"
     ]
    }
   ],
   "source": [
    "X_train, X_test, t_train, t_test =  train_test_split(product_interests, edu, test_size=0.2, random_state=10)\n",
    "\n",
    "\n",
    "#models\n",
    "reg = linear_model.LinearRegression()\n",
    "lasso = linear_model.Lasso()\n",
    "ridge = linear_model.Ridge()\n",
    "Enet = linear_model.ElasticNet()\n",
    "\n",
    "#training\n",
    "reg.fit(X_train, t_train)\n",
    "lasso.fit(X_train, t_train)\n",
    "ridge.fit(X_train, t_train)\n",
    "Enet.fit(X_train, t_train)\n",
    "\n",
    "#scoring\n",
    "print('Linear Train Accuracy : %.3f'%reg.score(X_train, t_train))\n",
    "print('Linear Test Accuracy : %.3f'%reg.score(X_test, t_test))\n",
    "print('Lasso Train Accuracy : %.3f'%lasso.score(X_train, t_train))\n",
    "print('Lasso Test Accuracy : %.3f'%lasso.score(X_test, t_test))\n",
    "print('Ridge Train Accuracy : %.3f'%ridge.score(X_train, t_train))\n",
    "print('Ridge Test Accuracy : %.3f'%ridge.score(X_test, t_test))\n",
    "print('Elastic Net Train Accuracy : %.3f'%Enet.score(X_train, t_train))\n",
    "print('Elastic Net Test Accuracy : %.3f'%Enet.score(X_test, t_test))"
   ]
  },
  {
   "cell_type": "markdown",
   "id": "0cfd8a2f",
   "metadata": {},
   "source": [
    "# INCOME"
   ]
  },
  {
   "cell_type": "code",
   "execution_count": 22,
   "id": "bc803097",
   "metadata": {},
   "outputs": [
    {
     "name": "stdout",
     "output_type": "stream",
     "text": [
      "Linear Train Accuracy : 0.687\n",
      "Linear Test Accuracy : 0.675\n",
      "Lasso Train Accuracy : 0.687\n",
      "Lasso Test Accuracy : 0.675\n",
      "Ridge Train Accuracy : 0.687\n",
      "Ridge Test Accuracy : 0.675\n",
      "Elastic Net Train Accuracy : 0.687\n",
      "Elastic Net Test Accuracy : 0.675\n"
     ]
    }
   ],
   "source": [
    "X_train, X_test, t_train, t_test =  train_test_split(product_interests, income, test_size=0.2, random_state=10)\n",
    "\n",
    "\n",
    "#models\n",
    "reg = linear_model.LinearRegression()\n",
    "lasso = linear_model.Lasso()\n",
    "ridge = linear_model.Ridge()\n",
    "Enet = linear_model.ElasticNet()\n",
    "\n",
    "#training\n",
    "reg.fit(X_train, t_train)\n",
    "lasso.fit(X_train, t_train)\n",
    "ridge.fit(X_train, t_train)\n",
    "Enet.fit(X_train, t_train)\n",
    "\n",
    "#scoring\n",
    "print('Linear Train Accuracy : %.3f'%reg.score(X_train, t_train))\n",
    "print('Linear Test Accuracy : %.3f'%reg.score(X_test, t_test))\n",
    "print('Lasso Train Accuracy : %.3f'%lasso.score(X_train, t_train))\n",
    "print('Lasso Test Accuracy : %.3f'%lasso.score(X_test, t_test))\n",
    "print('Ridge Train Accuracy : %.3f'%ridge.score(X_train, t_train))\n",
    "print('Ridge Test Accuracy : %.3f'%ridge.score(X_test, t_test))\n",
    "print('Elastic Net Train Accuracy : %.3f'%Enet.score(X_train, t_train))\n",
    "print('Elastic Net Test Accuracy : %.3f'%Enet.score(X_test, t_test))"
   ]
  },
  {
   "cell_type": "code",
   "execution_count": 24,
   "id": "1d8f4f9a",
   "metadata": {},
   "outputs": [
    {
     "data": {
      "text/plain": [
       "array([[13.77810214, 64.15760861, 32.44497774, 24.65500162, 43.59134519,\n",
       "        27.37749443]])"
      ]
     },
     "execution_count": 24,
     "metadata": {},
     "output_type": "execute_result"
    }
   ],
   "source": [
    "reg.coef_"
   ]
  },
  {
   "cell_type": "markdown",
   "id": "38178de7",
   "metadata": {},
   "source": [
    "# AGE"
   ]
  },
  {
   "cell_type": "code",
   "execution_count": 100,
   "id": "701e2429",
   "metadata": {},
   "outputs": [
    {
     "name": "stdout",
     "output_type": "stream",
     "text": [
      "Linear Train Accuracy : 0.040\n",
      "Linear Test Accuracy : -0.002\n",
      "Lasso Train Accuracy : 0.040\n",
      "Lasso Test Accuracy : -0.002\n",
      "Ridge Train Accuracy : 0.040\n",
      "Ridge Test Accuracy : -0.002\n",
      "Elastic Net Train Accuracy : 0.040\n",
      "Elastic Net Test Accuracy : -0.002\n"
     ]
    }
   ],
   "source": [
    "X_train, X_test, t_train, t_test =  train_test_split(product_interests, age, test_size=0.2, random_state=10)\n",
    "\n",
    "\n",
    "#models\n",
    "reg = linear_model.LinearRegression()\n",
    "lasso = linear_model.Lasso()\n",
    "ridge = linear_model.Ridge()\n",
    "Enet = linear_model.ElasticNet()\n",
    "\n",
    "#training\n",
    "reg.fit(X_train, t_train)\n",
    "lasso.fit(X_train, t_train)\n",
    "ridge.fit(X_train, t_train)\n",
    "Enet.fit(X_train, t_train)\n",
    "\n",
    "#scoring\n",
    "print('Linear Train Accuracy : %.3f'%reg.score(X_train, t_train))\n",
    "print('Linear Test Accuracy : %.3f'%reg.score(X_test, t_test))\n",
    "print('Lasso Train Accuracy : %.3f'%lasso.score(X_train, t_train))\n",
    "print('Lasso Test Accuracy : %.3f'%lasso.score(X_test, t_test))\n",
    "print('Ridge Train Accuracy : %.3f'%ridge.score(X_train, t_train))\n",
    "print('Ridge Test Accuracy : %.3f'%ridge.score(X_test, t_test))\n",
    "print('Elastic Net Train Accuracy : %.3f'%Enet.score(X_train, t_train))\n",
    "print('Elastic Net Test Accuracy : %.3f'%Enet.score(X_test, t_test))"
   ]
  },
  {
   "cell_type": "markdown",
   "id": "e6d594d6",
   "metadata": {},
   "source": [
    "# Children"
   ]
  },
  {
   "cell_type": "code",
   "execution_count": 101,
   "id": "f6ec23aa",
   "metadata": {},
   "outputs": [
    {
     "name": "stdout",
     "output_type": "stream",
     "text": [
      "Linear Train Accuracy : 0.307\n",
      "Linear Test Accuracy : 0.251\n",
      "Lasso Train Accuracy : 0.305\n",
      "Lasso Test Accuracy : 0.248\n",
      "Ridge Train Accuracy : 0.307\n",
      "Ridge Test Accuracy : 0.251\n",
      "Elastic Net Train Accuracy : 0.307\n",
      "Elastic Net Test Accuracy : 0.250\n"
     ]
    }
   ],
   "source": [
    "X_train, X_test, t_train, t_test =  train_test_split(product_interests, children, test_size=0.2, random_state=10)\n",
    "\n",
    "\n",
    "#models\n",
    "reg = linear_model.LinearRegression()\n",
    "lasso = linear_model.Lasso()\n",
    "ridge = linear_model.Ridge()\n",
    "Enet = linear_model.ElasticNet()\n",
    "\n",
    "#training\n",
    "reg.fit(X_train, t_train)\n",
    "lasso.fit(X_train, t_train)\n",
    "ridge.fit(X_train, t_train)\n",
    "Enet.fit(X_train, t_train)\n",
    "\n",
    "#scoring\n",
    "print('Linear Train Accuracy : %.3f'%reg.score(X_train, t_train))\n",
    "print('Linear Test Accuracy : %.3f'%reg.score(X_test, t_test))\n",
    "print('Lasso Train Accuracy : %.3f'%lasso.score(X_train, t_train))\n",
    "print('Lasso Test Accuracy : %.3f'%lasso.score(X_test, t_test))\n",
    "print('Ridge Train Accuracy : %.3f'%ridge.score(X_train, t_train))\n",
    "print('Ridge Test Accuracy : %.3f'%ridge.score(X_test, t_test))\n",
    "print('Elastic Net Train Accuracy : %.3f'%Enet.score(X_train, t_train))\n",
    "print('Elastic Net Test Accuracy : %.3f'%Enet.score(X_test, t_test))"
   ]
  },
  {
   "cell_type": "markdown",
   "id": "5406e898",
   "metadata": {},
   "source": [
    "# TOTAL PURCHASES"
   ]
  },
  {
   "cell_type": "code",
   "execution_count": 25,
   "id": "1e7be35c",
   "metadata": {},
   "outputs": [
    {
     "name": "stdout",
     "output_type": "stream",
     "text": [
      "Linear Train Accuracy : 0.611\n",
      "Linear Test Accuracy : 0.603\n",
      "Lasso Train Accuracy : 0.611\n",
      "Lasso Test Accuracy : 0.603\n",
      "Ridge Train Accuracy : 0.611\n",
      "Ridge Test Accuracy : 0.603\n",
      "Elastic Net Train Accuracy : 0.611\n",
      "Elastic Net Test Accuracy : 0.603\n"
     ]
    }
   ],
   "source": [
    "X_train, X_test, t_train, t_test =  train_test_split(product_interests, total_purchases, test_size=0.2, random_state=10)\n",
    "\n",
    "\n",
    "#models\n",
    "reg = linear_model.LinearRegression()\n",
    "lasso = linear_model.Lasso()\n",
    "ridge = linear_model.Ridge()\n",
    "Enet = linear_model.ElasticNet()\n",
    "\n",
    "#training\n",
    "reg.fit(X_train, t_train)\n",
    "lasso.fit(X_train, t_train)\n",
    "ridge.fit(X_train, t_train)\n",
    "Enet.fit(X_train, t_train)\n",
    "\n",
    "#scoring\n",
    "print('Linear Train Accuracy : %.3f'%reg.score(X_train, t_train))\n",
    "print('Linear Test Accuracy : %.3f'%reg.score(X_test, t_test))\n",
    "print('Lasso Train Accuracy : %.3f'%lasso.score(X_train, t_train))\n",
    "print('Lasso Test Accuracy : %.3f'%lasso.score(X_test, t_test))\n",
    "print('Ridge Train Accuracy : %.3f'%ridge.score(X_train, t_train))\n",
    "print('Ridge Test Accuracy : %.3f'%ridge.score(X_test, t_test))\n",
    "print('Elastic Net Train Accuracy : %.3f'%Enet.score(X_train, t_train))\n",
    "print('Elastic Net Test Accuracy : %.3f'%Enet.score(X_test, t_test))"
   ]
  },
  {
   "cell_type": "code",
   "execution_count": 26,
   "id": "0cc2ffac",
   "metadata": {},
   "outputs": [
    {
     "data": {
      "text/plain": [
       "array([[0.02928716, 0.02290583, 0.0056226 , 0.00110386, 0.01003447,\n",
       "        0.01229541]])"
      ]
     },
     "execution_count": 26,
     "metadata": {},
     "output_type": "execute_result"
    }
   ],
   "source": [
    "reg.coef_"
   ]
  },
  {
   "cell_type": "markdown",
   "id": "40458cf8",
   "metadata": {},
   "source": [
    "# WEB VISITS"
   ]
  },
  {
   "cell_type": "code",
   "execution_count": 104,
   "id": "f9ff68ab",
   "metadata": {},
   "outputs": [
    {
     "name": "stdout",
     "output_type": "stream",
     "text": [
      "Linear Train Accuracy : 0.356\n",
      "Linear Test Accuracy : 0.265\n",
      "Lasso Train Accuracy : 0.355\n",
      "Lasso Test Accuracy : 0.267\n",
      "Ridge Train Accuracy : 0.356\n",
      "Ridge Test Accuracy : 0.265\n",
      "Elastic Net Train Accuracy : 0.356\n",
      "Elastic Net Test Accuracy : 0.266\n"
     ]
    }
   ],
   "source": [
    "X_train, X_test, t_train, t_test =  train_test_split(product_interests, web_visits, test_size=0.2, random_state=10)\n",
    "\n",
    "\n",
    "#models\n",
    "reg = linear_model.LinearRegression()\n",
    "lasso = linear_model.Lasso()\n",
    "ridge = linear_model.Ridge()\n",
    "Enet = linear_model.ElasticNet()\n",
    "\n",
    "#training\n",
    "reg.fit(X_train, t_train)\n",
    "lasso.fit(X_train, t_train)\n",
    "ridge.fit(X_train, t_train)\n",
    "Enet.fit(X_train, t_train)\n",
    "\n",
    "#scoring\n",
    "print('Linear Train Accuracy : %.3f'%reg.score(X_train, t_train))\n",
    "print('Linear Test Accuracy : %.3f'%reg.score(X_test, t_test))\n",
    "print('Lasso Train Accuracy : %.3f'%lasso.score(X_train, t_train))\n",
    "print('Lasso Test Accuracy : %.3f'%lasso.score(X_test, t_test))\n",
    "print('Ridge Train Accuracy : %.3f'%ridge.score(X_train, t_train))\n",
    "print('Ridge Test Accuracy : %.3f'%ridge.score(X_test, t_test))\n",
    "print('Elastic Net Train Accuracy : %.3f'%Enet.score(X_train, t_train))\n",
    "print('Elastic Net Test Accuracy : %.3f'%Enet.score(X_test, t_test))"
   ]
  },
  {
   "cell_type": "markdown",
   "id": "68fbba97",
   "metadata": {},
   "source": [
    "# END OF CUSTOMER INFO MODELS"
   ]
  },
  {
   "cell_type": "code",
   "execution_count": 49,
   "id": "a506eb0b",
   "metadata": {},
   "outputs": [],
   "source": [
    "customer_info = customer_info.insert(0, 'Time Spent', time_spent)\n",
    "customer_info = customer_info.drop(['Total Purchases'], axis = 1)"
   ]
  },
  {
   "cell_type": "markdown",
   "id": "69f42cb9",
   "metadata": {},
   "source": [
    "# DEALS"
   ]
  },
  {
   "cell_type": "code",
   "execution_count": 51,
   "id": "ba847f00",
   "metadata": {},
   "outputs": [
    {
     "name": "stdout",
     "output_type": "stream",
     "text": [
      "Linear Train Accuracy : 0.321\n",
      "Linear Test Accuracy : 0.274\n",
      "Lasso Train Accuracy : 0.071\n",
      "Lasso Test Accuracy : 0.069\n",
      "Ridge Train Accuracy : 0.321\n",
      "Ridge Test Accuracy : 0.274\n",
      "Elastic Net Train Accuracy : 0.138\n",
      "Elastic Net Test Accuracy : 0.146\n"
     ]
    }
   ],
   "source": [
    "X_train, X_test, t_train, t_test =  train_test_split(customer_info, deals, test_size=0.2, random_state=10)\n",
    "\n",
    "\n",
    "#models\n",
    "reg = linear_model.LinearRegression()\n",
    "lasso = linear_model.Lasso()\n",
    "ridge = linear_model.Ridge()\n",
    "Enet = linear_model.ElasticNet()\n",
    "\n",
    "#training\n",
    "reg.fit(X_train, t_train)\n",
    "lasso.fit(X_train, t_train)\n",
    "ridge.fit(X_train, t_train)\n",
    "Enet.fit(X_train, t_train)\n",
    "\n",
    "#scoring\n",
    "print('Linear Train Accuracy : %.3f'%reg.score(X_train, t_train))\n",
    "print('Linear Test Accuracy : %.3f'%reg.score(X_test, t_test))\n",
    "print('Lasso Train Accuracy : %.3f'%lasso.score(X_train, t_train))\n",
    "print('Lasso Test Accuracy : %.3f'%lasso.score(X_test, t_test))\n",
    "print('Ridge Train Accuracy : %.3f'%ridge.score(X_train, t_train))\n",
    "print('Ridge Test Accuracy : %.3f'%ridge.score(X_test, t_test))\n",
    "print('Elastic Net Train Accuracy : %.3f'%Enet.score(X_train, t_train))\n",
    "print('Elastic Net Test Accuracy : %.3f'%Enet.score(X_test, t_test))"
   ]
  },
  {
   "cell_type": "markdown",
   "id": "42724ac7",
   "metadata": {},
   "source": [
    "# WEB"
   ]
  },
  {
   "cell_type": "code",
   "execution_count": 52,
   "id": "c4f387b5",
   "metadata": {},
   "outputs": [
    {
     "name": "stdout",
     "output_type": "stream",
     "text": [
      "Linear Train Accuracy : 0.430\n",
      "Linear Test Accuracy : 0.242\n",
      "Lasso Train Accuracy : 0.387\n",
      "Lasso Test Accuracy : 0.280\n",
      "Ridge Train Accuracy : 0.430\n",
      "Ridge Test Accuracy : 0.242\n",
      "Elastic Net Train Accuracy : 0.411\n",
      "Elastic Net Test Accuracy : 0.279\n"
     ]
    }
   ],
   "source": [
    "X_train, X_test, t_train, t_test =  train_test_split(customer_info, web, test_size=0.2, random_state=10)\n",
    "\n",
    "\n",
    "#models\n",
    "reg = linear_model.LinearRegression()\n",
    "lasso = linear_model.Lasso()\n",
    "ridge = linear_model.Ridge()\n",
    "Enet = linear_model.ElasticNet()\n",
    "\n",
    "#training\n",
    "reg.fit(X_train, t_train)\n",
    "lasso.fit(X_train, t_train)\n",
    "ridge.fit(X_train, t_train)\n",
    "Enet.fit(X_train, t_train)\n",
    "\n",
    "#scoring\n",
    "print('Linear Train Accuracy : %.3f'%reg.score(X_train, t_train))\n",
    "print('Linear Test Accuracy : %.3f'%reg.score(X_test, t_test))\n",
    "print('Lasso Train Accuracy : %.3f'%lasso.score(X_train, t_train))\n",
    "print('Lasso Test Accuracy : %.3f'%lasso.score(X_test, t_test))\n",
    "print('Ridge Train Accuracy : %.3f'%ridge.score(X_train, t_train))\n",
    "print('Ridge Test Accuracy : %.3f'%ridge.score(X_test, t_test))\n",
    "print('Elastic Net Train Accuracy : %.3f'%Enet.score(X_train, t_train))\n",
    "print('Elastic Net Test Accuracy : %.3f'%Enet.score(X_test, t_test))"
   ]
  },
  {
   "cell_type": "markdown",
   "id": "0531c39e",
   "metadata": {},
   "source": [
    "# CATALOG"
   ]
  },
  {
   "cell_type": "code",
   "execution_count": 55,
   "id": "11fdecf6",
   "metadata": {},
   "outputs": [
    {
     "name": "stdout",
     "output_type": "stream",
     "text": [
      "Linear Train Accuracy : 0.657\n",
      "Linear Test Accuracy : 0.663\n",
      "Lasso Train Accuracy : 0.637\n",
      "Lasso Test Accuracy : 0.660\n",
      "Ridge Train Accuracy : 0.657\n",
      "Ridge Test Accuracy : 0.663\n",
      "Elastic Net Train Accuracy : 0.645\n",
      "Elastic Net Test Accuracy : 0.664\n"
     ]
    }
   ],
   "source": [
    "X_train, X_test, t_train, t_test =  train_test_split(customer_info, catalog, test_size=0.2, random_state=10)\n",
    "\n",
    "\n",
    "#models\n",
    "reg = linear_model.LinearRegression()\n",
    "lasso = linear_model.Lasso()\n",
    "ridge = linear_model.Ridge()\n",
    "Enet = linear_model.ElasticNet()\n",
    "\n",
    "#training\n",
    "reg.fit(X_train, t_train)\n",
    "lasso.fit(X_train, t_train)\n",
    "ridge.fit(X_train, t_train)\n",
    "Enet.fit(X_train, t_train)\n",
    "\n",
    "#scoring\n",
    "print('Linear Train Accuracy : %.3f'%reg.score(X_train, t_train))\n",
    "print('Linear Test Accuracy : %.3f'%reg.score(X_test, t_test))\n",
    "print('Lasso Train Accuracy : %.3f'%lasso.score(X_train, t_train))\n",
    "print('Lasso Test Accuracy : %.3f'%lasso.score(X_test, t_test))\n",
    "print('Ridge Train Accuracy : %.3f'%ridge.score(X_train, t_train))\n",
    "print('Ridge Test Accuracy : %.3f'%ridge.score(X_test, t_test))\n",
    "print('Elastic Net Train Accuracy : %.3f'%Enet.score(X_train, t_train))\n",
    "print('Elastic Net Test Accuracy : %.3f'%Enet.score(X_test, t_test))"
   ]
  },
  {
   "cell_type": "code",
   "execution_count": 56,
   "id": "7578c9bb",
   "metadata": {},
   "outputs": [
    {
     "data": {
      "text/plain": [
       "array([[ 3.07527013e-03, -1.97252769e-01, -1.37108413e-01,\n",
       "         2.04923865e-02,  8.15144702e-03,  3.79348050e-06,\n",
       "        -5.03697100e-02]])"
      ]
     },
     "execution_count": 56,
     "metadata": {},
     "output_type": "execute_result"
    }
   ],
   "source": [
    "reg.coef_"
   ]
  },
  {
   "cell_type": "markdown",
   "id": "5157b130",
   "metadata": {},
   "source": [
    "# STORE"
   ]
  },
  {
   "cell_type": "code",
   "execution_count": 54,
   "id": "fdcba02b",
   "metadata": {},
   "outputs": [
    {
     "name": "stdout",
     "output_type": "stream",
     "text": [
      "Linear Train Accuracy : 0.657\n",
      "Linear Test Accuracy : 0.663\n",
      "Lasso Train Accuracy : 0.637\n",
      "Lasso Test Accuracy : 0.660\n",
      "Ridge Train Accuracy : 0.657\n",
      "Ridge Test Accuracy : 0.663\n",
      "Elastic Net Train Accuracy : 0.645\n",
      "Elastic Net Test Accuracy : 0.664\n"
     ]
    }
   ],
   "source": [
    "X_train, X_test, t_train, t_test =  train_test_split(customer_info, catalog, test_size=0.2, random_state=10)\n",
    "\n",
    "\n",
    "#models\n",
    "reg = linear_model.LinearRegression()\n",
    "lasso = linear_model.Lasso()\n",
    "ridge = linear_model.Ridge()\n",
    "Enet = linear_model.ElasticNet()\n",
    "\n",
    "#training\n",
    "reg.fit(X_train, t_train)\n",
    "lasso.fit(X_train, t_train)\n",
    "ridge.fit(X_train, t_train)\n",
    "Enet.fit(X_train, t_train)\n",
    "\n",
    "#scoring\n",
    "print('Linear Train Accuracy : %.3f'%reg.score(X_train, t_train))\n",
    "print('Linear Test Accuracy : %.3f'%reg.score(X_test, t_test))\n",
    "print('Lasso Train Accuracy : %.3f'%lasso.score(X_train, t_train))\n",
    "print('Lasso Test Accuracy : %.3f'%lasso.score(X_test, t_test))\n",
    "print('Ridge Train Accuracy : %.3f'%ridge.score(X_train, t_train))\n",
    "print('Ridge Test Accuracy : %.3f'%ridge.score(X_test, t_test))\n",
    "print('Elastic Net Train Accuracy : %.3f'%Enet.score(X_train, t_train))\n",
    "print('Elastic Net Test Accuracy : %.3f'%Enet.score(X_test, t_test))"
   ]
  },
  {
   "cell_type": "code",
   "execution_count": 57,
   "id": "e7565f8b",
   "metadata": {},
   "outputs": [
    {
     "data": {
      "text/plain": [
       "array([[ 3.07527013e-03, -1.97252769e-01, -1.37108413e-01,\n",
       "         2.04923865e-02,  8.15144702e-03,  3.79348050e-06,\n",
       "        -5.03697100e-02]])"
      ]
     },
     "execution_count": 57,
     "metadata": {},
     "output_type": "execute_result"
    }
   ],
   "source": [
    "reg.coef_"
   ]
  }
 ],
 "metadata": {
  "kernelspec": {
   "display_name": "Python 3 (ipykernel)",
   "language": "python",
   "name": "python3"
  },
  "language_info": {
   "codemirror_mode": {
    "name": "ipython",
    "version": 3
   },
   "file_extension": ".py",
   "mimetype": "text/x-python",
   "name": "python",
   "nbconvert_exporter": "python",
   "pygments_lexer": "ipython3",
   "version": "3.9.7"
  }
 },
 "nbformat": 4,
 "nbformat_minor": 5
}
